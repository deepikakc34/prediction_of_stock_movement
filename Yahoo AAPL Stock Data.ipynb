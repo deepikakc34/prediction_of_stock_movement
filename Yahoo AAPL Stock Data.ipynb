{
 "cells": [
  {
   "cell_type": "code",
   "execution_count": 1,
   "metadata": {},
   "outputs": [
    {
     "name": "stderr",
     "output_type": "stream",
     "text": [
      "c:\\users\\aakul\\appdata\\local\\programs\\python\\python37\\lib\\site-packages\\pandas_datareader\\compat\\__init__.py:7: FutureWarning: pandas.util.testing is deprecated. Use the functions in the public API at pandas.testing instead.\n",
      "  from pandas.util.testing import assert_frame_equal\n"
     ]
    }
   ],
   "source": [
    "import pandas as pd\n",
    "import numpy as np\n",
    "import datetime as dt\n",
    "import pandas_datareader.data as web"
   ]
  },
  {
   "cell_type": "code",
   "execution_count": 2,
   "metadata": {},
   "outputs": [],
   "source": [
    "start = dt.datetime(2020,3,9)\n",
    "end = dt.datetime(2020,4,10)"
   ]
  },
  {
   "cell_type": "code",
   "execution_count": 3,
   "metadata": {},
   "outputs": [
    {
     "data": {
      "text/html": [
       "<div>\n",
       "<style scoped>\n",
       "    .dataframe tbody tr th:only-of-type {\n",
       "        vertical-align: middle;\n",
       "    }\n",
       "\n",
       "    .dataframe tbody tr th {\n",
       "        vertical-align: top;\n",
       "    }\n",
       "\n",
       "    .dataframe thead th {\n",
       "        text-align: right;\n",
       "    }\n",
       "</style>\n",
       "<table border=\"1\" class=\"dataframe\">\n",
       "  <thead>\n",
       "    <tr style=\"text-align: right;\">\n",
       "      <th></th>\n",
       "      <th>High</th>\n",
       "      <th>Low</th>\n",
       "      <th>Open</th>\n",
       "      <th>Close</th>\n",
       "      <th>Volume</th>\n",
       "      <th>Adj Close</th>\n",
       "    </tr>\n",
       "    <tr>\n",
       "      <th>Date</th>\n",
       "      <th></th>\n",
       "      <th></th>\n",
       "      <th></th>\n",
       "      <th></th>\n",
       "      <th></th>\n",
       "      <th></th>\n",
       "    </tr>\n",
       "  </thead>\n",
       "  <tbody>\n",
       "    <tr>\n",
       "      <th>2020-03-09</th>\n",
       "      <td>278.089996</td>\n",
       "      <td>263.000000</td>\n",
       "      <td>263.750000</td>\n",
       "      <td>266.170013</td>\n",
       "      <td>71686200</td>\n",
       "      <td>266.170013</td>\n",
       "    </tr>\n",
       "    <tr>\n",
       "      <th>2020-03-10</th>\n",
       "      <td>286.440002</td>\n",
       "      <td>269.369995</td>\n",
       "      <td>277.140015</td>\n",
       "      <td>285.339996</td>\n",
       "      <td>71322500</td>\n",
       "      <td>285.339996</td>\n",
       "    </tr>\n",
       "    <tr>\n",
       "      <th>2020-03-11</th>\n",
       "      <td>281.220001</td>\n",
       "      <td>271.859985</td>\n",
       "      <td>277.390015</td>\n",
       "      <td>275.429993</td>\n",
       "      <td>63899700</td>\n",
       "      <td>275.429993</td>\n",
       "    </tr>\n",
       "    <tr>\n",
       "      <th>2020-03-12</th>\n",
       "      <td>270.000000</td>\n",
       "      <td>248.000000</td>\n",
       "      <td>255.940002</td>\n",
       "      <td>248.229996</td>\n",
       "      <td>104618500</td>\n",
       "      <td>248.229996</td>\n",
       "    </tr>\n",
       "    <tr>\n",
       "      <th>2020-03-13</th>\n",
       "      <td>279.920013</td>\n",
       "      <td>252.949997</td>\n",
       "      <td>264.890015</td>\n",
       "      <td>277.970001</td>\n",
       "      <td>92683000</td>\n",
       "      <td>277.970001</td>\n",
       "    </tr>\n",
       "  </tbody>\n",
       "</table>\n",
       "</div>"
      ],
      "text/plain": [
       "                  High         Low        Open       Close     Volume  \\\n",
       "Date                                                                    \n",
       "2020-03-09  278.089996  263.000000  263.750000  266.170013   71686200   \n",
       "2020-03-10  286.440002  269.369995  277.140015  285.339996   71322500   \n",
       "2020-03-11  281.220001  271.859985  277.390015  275.429993   63899700   \n",
       "2020-03-12  270.000000  248.000000  255.940002  248.229996  104618500   \n",
       "2020-03-13  279.920013  252.949997  264.890015  277.970001   92683000   \n",
       "\n",
       "             Adj Close  \n",
       "Date                    \n",
       "2020-03-09  266.170013  \n",
       "2020-03-10  285.339996  \n",
       "2020-03-11  275.429993  \n",
       "2020-03-12  248.229996  \n",
       "2020-03-13  277.970001  "
      ]
     },
     "execution_count": 3,
     "metadata": {},
     "output_type": "execute_result"
    }
   ],
   "source": [
    "AAPL_df = web.DataReader('AAPL', 'yahoo', start, end)\n",
    "\n",
    "AAPL_df.head()"
   ]
  },
  {
   "cell_type": "code",
   "execution_count": 4,
   "metadata": {},
   "outputs": [],
   "source": [
    "AAPL_df.reset_index(inplace = True)\n",
    "AAPL_df.set_index('Date', inplace = True)\n",
    "AAPL_df.to_csv('AAPL_Yahoo.csv')"
   ]
  },
  {
   "cell_type": "code",
   "execution_count": null,
   "metadata": {},
   "outputs": [],
   "source": []
  }
 ],
 "metadata": {
  "kernelspec": {
   "display_name": "Python 3",
   "language": "python",
   "name": "python3"
  },
  "language_info": {
   "codemirror_mode": {
    "name": "ipython",
    "version": 3
   },
   "file_extension": ".py",
   "mimetype": "text/x-python",
   "name": "python",
   "nbconvert_exporter": "python",
   "pygments_lexer": "ipython3",
   "version": "3.7.6"
  }
 },
 "nbformat": 4,
 "nbformat_minor": 2
}
