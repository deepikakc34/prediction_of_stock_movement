{
 "cells": [
  {
   "cell_type": "code",
   "execution_count": 56,
   "metadata": {},
   "outputs": [],
   "source": [
    "from bs4 import BeautifulSoup\n",
    "from urllib.request import urlopen\n",
    "import pandas\n",
    "import re\n",
    "\n",
    "\n",
    "source = urlopen('https://www.cnbc.com/quotes/?symbol=AAPL&qsearchterm=&tab=news').read()\n",
    "soup = BeautifulSoup(source, 'lxml')\n",
    "\n",
    "parent = soup.find_all('ul')\n",
    "\n",
    "links = []\n",
    "headline = []\n",
    "time = []\n",
    "article = []\n",
    "df = pandas.DataFrame(columns = ['links', 'headline', 'timeline', 'text-article'])\n",
    "for news in parent[21]:\n",
    "    if news != '\\n':\n",
    "        links.append(news.a['href'])\n",
    "        headline.append(news.span.text)\n",
    "        time.append(news.find('span', class_='note'))\n",
    "        \n",
    "        inspect_link = urlopen(news.a['href']).read()\n",
    "        soup = BeautifulSoup(inspect_link, 'lxml')\n",
    "        text = soup.find('div', class_=\"ArticleBody-articleBody\")\n",
    "        text = str(text)\n",
    "       \n",
    "        if text is not None:\n",
    "            cleanr = re.compile('<.*?>')\n",
    "            cleantext = re.sub(cleanr, ' ', text)\n",
    "            article.append(cleantext)\n",
    "        \n",
    "        \n",
    "df['links'] = links\n",
    "df['headline'] = headline\n",
    "df['timeline'] = time\n",
    "df['text-article'] = article\n",
    "df.to_csv(r'CNBC_articles.csv')\n",
    "    "
   ]
  }
 ],
 "metadata": {
  "kernelspec": {
   "display_name": "Python 3",
   "language": "python",
   "name": "python3"
  },
  "language_info": {
   "codemirror_mode": {
    "name": "ipython",
    "version": 3
   },
   "file_extension": ".py",
   "mimetype": "text/x-python",
   "name": "python",
   "nbconvert_exporter": "python",
   "pygments_lexer": "ipython3",
   "version": "3.7.4"
  }
 },
 "nbformat": 4,
 "nbformat_minor": 2
}
