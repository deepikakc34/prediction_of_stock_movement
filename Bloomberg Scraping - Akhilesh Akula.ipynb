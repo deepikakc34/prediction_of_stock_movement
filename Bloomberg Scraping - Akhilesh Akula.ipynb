{
 "cells": [
  {
   "cell_type": "code",
   "execution_count": 1,
   "metadata": {},
   "outputs": [],
   "source": [
    "from urllib.request import urlopen\n",
    "from bs4 import BeautifulSoup\n",
    "from datetime import datetime, timedelta\n",
    "import time\n",
    "import pprint\n",
    "import pandas as pd\n",
    "import numpy as np\n",
    "import requests"
   ]
  },
  {
   "cell_type": "code",
   "execution_count": 16,
   "metadata": {},
   "outputs": [
    {
     "data": {
      "text/plain": [
       "b'<!doctype html>\\n<html>\\n<head>\\n    <title>Bloomberg - Are you a robot?</title>\\n    <meta name=\"viewport\" content=\"width=device-width, initial-scale=1\">\\n    <link rel=\"stylesheet\" type=\"text/css\" href=\"https://assets.bwbx.io/font-service/css/BWHaasGrotesk-55Roman-Web,BWHaasGrotesk-75Bold-Web,BW%20Haas%20Text%20Mono%20A-55%20Roman/font-face.css\">\\n    <style rel=\"stylesheet\" type=\"text/css\">\\n        html, body, div, span, applet, object, iframe,\\n        h1, h2, h3, h4, h5, h6, p, blockquote, pre,\\n        a, abbr, acronym, address, big, cite, code,\\n        del, dfn, em, img, ins, kbd, q, s, samp,\\n        small, strike, strong, sub, sup, tt, var,\\n        b, u, i, center,\\n        dl, dt, dd, ol, ul, li,\\n        fieldset, form, label, legend,\\n        table, caption, tbody, tfoot, thead, tr, th, td,\\n        article, aside, canvas, details, embed,\\n        figure, figcaption, footer, header, hgroup,\\n        menu, nav, output, ruby, section, summary,\\n        time, mark, audio, video {\\n            margin: 0;\\n            padding: 0;\\n            border: 0;\\n            font-size: 100%;\\n            font: inherit;\\n            vertical-align: baseline;\\n        }\\n        /* HTML5 display-role reset for older browsers */\\n        article, aside, details, figcaption, figure,\\n        footer, header, hgroup, menu, nav, section {\\n            display: block;\\n        }\\n        body {\\n            line-height: 1;\\n        }\\n        ol, ul {\\n            list-style: none;\\n        }\\n        blockquote, q {\\n            quotes: none;\\n        }\\n        blockquote:before, blockquote:after,\\n        q:before, q:after {\\n            content: \\'\\';\\n            content: none;\\n        }\\n        table {\\n            border-collapse: collapse;\\n            border-spacing: 0;\\n        }\\n\\n        * {\\n            box-sizing: border-box;\\n        }\\n\\n        body {\\n            background-color: #f2f2f2;\\n            font-family: \"BWHaasGrotesk-55Roman-Web\";\\n            line-height: 1.2;\\n        }\\n\\n        .header {\\n            margin: 0;\\n            height: 60px;\\n            width: 100%;\\n            background-color: black;\\n            color: white;\\n            overflow-x: hidden;\\n        }\\n\\n        .logo {\\n            float: left;\\n            margin: 0 20px;\\n            height: 60px;\\n            width: 140px;\\n            background-image: url(\\'data:image/svg+xml;base64,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\\');\\n            background-repeat: no-repeat;\\n            background-position: center;\\n            font-size: 0;\\n        }\\n\\n        .contact-us {\\n            float: right;\\n            margin: 0 20px;\\n            line-height: 60px;\\n            font-family: \"BWHaasGrotesk-55Roman-Web\";\\n            font-size: 14px;\\n            color: white;\\n            text-decoration: underline;\\n        }\\n\\n        .box {\\n            margin: 30px auto;\\n            padding: 30px;\\n            width: 680px;\\n            background-color: white;\\n        }\\n\\n        @media (max-width:760px) {\\n            .box {\\n                width: calc(100% - 20px);\\n            }\\n        }\\n\\n        .main__heading, .info__heading {\\n            font-family: \"BWHaasGrotesk-75Bold-Web\";\\n        }\\n\\n        .main__heading {\\n            font-size: 19px;\\n            padding-bottom: 9px;\\n        }\\n\\n        .continue {\\n            font-size: 18px;\\n        }\\n\\n        #px-captcha {\\n            margin-top: 20px;\\n            min-height: 80px;\\n        }\\n\\n        .info {\\n            border-top: dotted 1px black;\\n            padding-top: 9px;\\n        }\\n\\n        .info + .info {\\n            margin-top: 30px;\\n        }\\n\\n        .info__link {\\n            color: black;\\n            text-decoration: underline;\\n        }\\n\\n        .info__heading {\\n            font-size: 16px;\\n            line-height: 20px;\\n            padding-bottom: 9px;\\n        }\\n\\n        .info__text {\\n            padding-bottom: 9px;\\n        }\\n\\n        #block_uuid {\\n            display: inline-block;\\n            padding: 6px;\\n            background-color: #f2f2f2;\\n            font-family: \"BW Haas Text Mono A-55 Roman\";\\n            font-size: 14px;\\n        }\\n\\n    </style>\\n    <script>\\n        window._pxAppId = \"PX8FCGYgk4\";\\n        window._pxJsClientSrc = \"/8FCGYgk4/init.js\";\\n        window._pxFirstPartyEnabled = true;\\n        window._pxHostUrl = \"/8FCGYgk4/xhr\";\\n        window._pxreCaptchaTheme = \"light\";\\n        window._pxUuid = qs(\"uuid\");\\n\\n        if(!window._pxUuid) {\\n            window.pxInit = function (px) {\\n                px.Events.one(\"uid\", function (uuid) {\\n                    if (uuid) {\\n                        document.getElementById(\"block_uuid\").innerText = \"Block reference ID: \" + uuid;\\n                    }\\n                });\\n            };\\n        }\\n\\n        function qs(name) {\\n            var search = window.location.search;\\n            var rx = new RegExp(\"[?&]\" + name + \"(=([^&#]*)|&|#|$)\");\\n            var match = rx.exec(search);\\n            return match ? decodeURIComponent(match[2].replace(/\\\\+/g, \" \")) : \"\";\\n        }\\n    </script>\\n    <script src=\"/8FCGYgk4/captcha/captcha.js?a=c&m=0\" async></script>\\n</head>\\n<body>\\n    <header class=\"header\">\\n        <h1 class=\"logo\">Bloomberg</h1>\\n        <a class=\"contact-us\" href=\"/feedback\">Need help? Contact us</a>\\n    </header>\\n    <section class=\"box main\">\\n        <h2 class=\"main__heading\">We\\'ve detected unusual activity from your computer network</h2>\\n        <p class=\"continue\">To continue, please click the box below to let us know you\\'re not a robot.</p>\\n        <div id=\"px-captcha\"></div>\\n    </section>\\n    <section class=\"box\">\\n        <section class=\"info\">\\n            <h3 class=\"info__heading\">Why did this happen?</h3>\\n            <p class=\"info__text\">Please make sure your browser supports JavaScript and cookies and that you are not blocking them from loading. For more information you can review our <a class=\"info__link\" href=\"/notices/tos\">Terms of Service</a> and <a class=\"info__link\" href=\"/notices/tos\">Cookie Policy</a>.</p>\\n        </section>\\n        <section class=\"info\">\\n            <h3 class=\"info__heading\">Need Help?</h3>\\n            <p class=\"info__text\">For inquiries related to this message please <a class=\"info__link\" href=\"/feedback\">contact our support team</a> and provide the reference ID below.</p>\\n            <div id=\"block_uuid\">Block reference ID: </div>\\n        </section>\\n    </section>\\n    <script type=\"text/javascript\">\\n    document.getElementById(\"block_uuid\").innerText = \"Block reference ID: \" + window._pxUuid;\\n    </script>\\n    <!-- Google Tag Manager -->\\n    <script>(function(w, d, s, l, i) {\\n        w[l] = w[l] || [];\\n        w[l].push({ \\'gtm.start\\': new Date().getTime(), event: \\'gtm.js\\' });\\n        var f = d.getElementsByTagName(s)[0], j = d.createElement(s), dl = l != \\'dataLayer\\' ? \\'&l=\\' + l : \\'\\';\\n        j.defer = true;\\n        j.src = \\'https://www.googletagmanager.com/gtm.js?id=\\' + i + dl;\\n        f.parentNode.insertBefore(j, f);\\n    })(window, document, \\'script\\', \\'dataLayer\\', \\'GTM-MNTH5N\\');</script>\\n    <!-- End Google Tag Manager -->\\n</body>\\n</html>\\n'"
      ]
     },
     "execution_count": 16,
     "metadata": {},
     "output_type": "execute_result"
    }
   ],
   "source": [
    "# Open the Bloomberg finance link for AAPL stock\n",
    "page = urlopen('https://www.bloomberg.com/quote/AAPL:US').read()\n",
    "soup = BeautifulSoup(page, 'html.parser')\n",
    "#posts = soup.find_all('article', {'class':'newsItem__5b5cb00f'})\n",
    "\n",
    "#<article class=\"newsItem__5b5cb00f  quote__23caba74\"><a href=\"https://www.bloomberg.com/news/articles/2020-04-23/apple-aims-to-sell-macs-with-its-own-chips-starting-in-2021\"><div class=\" thumbnail__8ad9f836 \" style=\"background-image:url(https://assets.bwbx.io/images/users/iqjWHBFdfxIU/iYsQ04_.tLPE/v1/150x110.jpg)\" role=\"img\" aria-label=\"relates to Apple Aims to Sell Macs With Its Own Chips Starting in 2021\" data-attribute-duration=\"--:--\" wfd-id=\"778\"></div><div class=\"text__ebd4e2ca withThumbnail__c3b7267c\" wfd-id=\"774\"><div class=\"eyebrow__b25fba9d\" wfd-id=\"777\">technology</div><div class=\"headline__07dbac92\" wfd-id=\"776\">Apple Aims to Sell Macs With Its Own Chips Starting in 2021</div><div class=\"publishedAt__4009bb4f \" wfd-id=\"775\">5 hours ago</div></div></a></article>\n",
    "\n",
    "page"
   ]
  },
  {
   "cell_type": "code",
   "execution_count": null,
   "metadata": {},
   "outputs": [],
   "source": [
    "#Then grab and save the news links into list\n",
    "#urls = []\n",
    "#for post in posts:\n",
    "#    post_date = post.date\n",
    "#    urls.append(str(post.a['href']))\n",
    "\n",
    "# The saved links did not have 'https://finance.yahoo.com' in front of them except for the first link\n",
    "# Had to remove the first link, add the pretext, and then append and print the lists to check over\n",
    "#first_url = urls[0]\n",
    "#urls = urls[1:]\n",
    "\n",
    "#for url in range(len(urls)):\n",
    "#    link = 'https://finance.yahoo.com'\n",
    "#    urls[url] = link+urls[url]\n",
    "#urls.append(first_url)\n",
    "\n",
    "# Any new added url link does not have the pretext, so have to add it\n",
    "#urls[len(urls)-1] = link+urls[len(urls)-1]\n",
    "\n",
    "#for url in range(len(urls)):\n",
    "#    print(urls[url])"
   ]
  },
  {
   "cell_type": "code",
   "execution_count": null,
   "metadata": {},
   "outputs": [],
   "source": [
    "source = urlopen('https://www.cnbc.com/quotes/?symbol=AAPL&qsearchterm=&tab=news').read()\n",
    "soup = BeautifulSoup(source, 'lxml')\n",
    "\n",
    "parent = soup.find_all('ul')\n",
    "\n",
    "parent"
   ]
  },
  {
   "cell_type": "code",
   "execution_count": null,
   "metadata": {},
   "outputs": [],
   "source": [
    "latest_news = parent[21]\n",
    "links = []\n",
    "text = []\n",
    "time = []\n",
    "df = pandas.DataFrame(columns = ['links', 'text', 'timeline'])\n",
    "for news in latest_news:\n",
    "    if news != '\\n':\n",
    "        links.append(news.a['href'])\n",
    "        text.append(news.span.text)\n",
    "        time.append(news.find('span', class_='note'))\n",
    "        \n",
    "df['links'] = links\n",
    "df['text'] = text\n",
    "df['timeline'] = time\n",
    "\n",
    "df"
   ]
  },
  {
   "cell_type": "code",
   "execution_count": 8,
   "metadata": {},
   "outputs": [
    {
     "name": "stdout",
     "output_type": "stream",
     "text": [
      "Error: Please provide subject title, page_min and pages_max. \n",
      "For Example: >Bloomberg_extractor.py bitcoin 1 99\n",
      "\n"
     ]
    },
    {
     "ename": "SystemExit",
     "evalue": "1",
     "output_type": "error",
     "traceback": [
      "An exception has occurred, use %tb to see the full traceback.\n",
      "\u001b[1;31mSystemExit\u001b[0m\u001b[1;31m:\u001b[0m 1\n"
     ]
    },
    {
     "name": "stderr",
     "output_type": "stream",
     "text": [
      "c:\\python38\\lib\\site-packages\\IPython\\core\\interactiveshell.py:3339: UserWarning: To exit: use 'exit', 'quit', or Ctrl-D.\n",
      "  warn(\"To exit: use 'exit', 'quit', or Ctrl-D.\", stacklevel=1)\n"
     ]
    }
   ],
   "source": [
    "# Bloomberg Extractor\n",
    "# weiwangchun\n",
    "# using requests and beautifulsoup to grab headlines from Bloomberg\n",
    "\n",
    "\n",
    "import requests\n",
    "from bs4 import BeautifulSoup\n",
    "import re\n",
    "import numpy as np\n",
    "import pandas as pd\n",
    "from lxml.html import fromstring\n",
    "import sys\n",
    "\n",
    "# grab a set proxies\n",
    "# ----------------------------\n",
    "def get_proxies():\n",
    "    url = 'https://free-proxy-list.net/anonymous-proxy.html'\n",
    "    response = requests.get(url)\n",
    "    parser = fromstring(response.text)\n",
    "    proxies = set()\n",
    "    for i in parser.xpath('//tbody/tr')[:30]:\n",
    "        if i.xpath('.//td[7][contains(text(),\"yes\")]'):\n",
    "            #Grabbing IP and corresponding PORT\n",
    "            proxy = \":\".join([i.xpath('.//td[1]/text()')[0], i.xpath('.//td[2]/text()')[0]])\n",
    "            proxies.add(proxy)\n",
    "    return proxies\n",
    "\n",
    "\n",
    "# header settings\n",
    "# ----------------------------\n",
    "# ua_list:  https://udger.com/resources/ua-list\n",
    "headers = {\n",
    "    'User-Agent': 'Mozilla/5.0 (Windows NT 6.1; WOW64; rv:20.0) Gecko/20100101 Firefox/20.0',\n",
    "    'From': 'marcus.aurelius@rome.com' \n",
    "}\n",
    "\n",
    "\n",
    "# bloomberg scraper fn\n",
    "# ----------------------------\n",
    "def scrape_bloomberg(subject, page_number, headers, proxies):\n",
    "    full_url = 'https://www.bloomberg.com/quote/AAPL:US'\n",
    "    response = requests.get(full_url, headers=headers, proxies = proxies)\n",
    "    soup = BeautifulSoup(response.content, 'html.parser')\n",
    "    #dates = [''.join(s.findAll(text=True))for s in soup.findAll(['time'])]\n",
    "    #text = [''.join(s.findAll(text=True))for s in soup.findAll(['h1'])]\n",
    "    #tmp = np.column_stack((dates, text))\n",
    "    #_, idx = np.unique(tmp, axis = 0, return_index = True)\n",
    "    #tmp = tmp[np.sort(idx)]\n",
    "    links = [''.join(s.attrs['href']) for s in soup.findAll('a', class_=\"search-result-story-thumbnail__link\", href = True)]\n",
    "    #tmp = np.column_stack((tmp,  links))\n",
    "    return links\n",
    "\n",
    "\n",
    "\n",
    "if __name__ == '__main__':\n",
    "    if len(sys.argv) != 4:\n",
    "        print(\"Error: Please provide subject title, page_min and pages_max. \\nFor Example: >Bloomberg_extractor.py bitcoin 1 99\\n\")\n",
    "        sys.exit(1)\n",
    "\n",
    "    subject = str(sys.argv[1])\n",
    "    pages_min = int(sys.argv[2])\n",
    "    pages_max = int(sys.argv[3])\n",
    "\n",
    "    completed_page = pages_min - 1\n",
    "    #full = np.array(['date', 'title', 'link'])\n",
    "    full = np.array(['link'])\n",
    "\n",
    "    while completed_page < pages_max:\n",
    "        proxy_list = get_proxies()\n",
    "        for proxy in proxy_list:\n",
    "            pages = np.arange(completed_page + 1,pages_max+1,1)\n",
    "\n",
    "            proxies = {\n",
    "                'http': proxy,\n",
    "                'https': proxy,\n",
    "            }\n",
    "\n",
    "            for page in pages:\n",
    "\n",
    "                print('Trying Page ' + str(page) + ' using proxy ' + proxy)\n",
    "                try:\n",
    "                    full = np.append(full, scrape_bloomberg(subject = subject, page_number = page, headers = headers, proxies = proxies))\n",
    "                    print('Page ' + str(page) + ' completed\\n')\n",
    "                    np.savetxt('RESULTS_TMP.csv', full, fmt='%s', delimiter=',')\n",
    "                    completed_page = page\n",
    "                except Exception as e:\n",
    "                    print(str(e))\n",
    "                    print('Failed Page ' + str(page) + ' using proxy ' + proxy)\n",
    "                    break\n",
    "\n",
    "    np.savetxt('results'+ subject + str(pages_max)+'.csv', full, fmt='%s', delimiter=',')"
   ]
  },
  {
   "cell_type": "code",
   "execution_count": 15,
   "metadata": {},
   "outputs": [
    {
     "ename": "WebDriverException",
     "evalue": "Message: 'NLP-Project.chromedriver.exe' executable needs to be in PATH. Please see https://sites.google.com/a/chromium.org/chromedriver/home\n",
     "output_type": "error",
     "traceback": [
      "\u001b[1;31m---------------------------------------------------------------------\u001b[0m",
      "\u001b[1;31mFileNotFoundError\u001b[0m                   Traceback (most recent call last)",
      "\u001b[1;32mc:\\python38\\lib\\site-packages\\selenium\\webdriver\\common\\service.py\u001b[0m in \u001b[0;36mstart\u001b[1;34m(self)\u001b[0m\n\u001b[0;32m     71\u001b[0m             \u001b[0mcmd\u001b[0m\u001b[1;33m.\u001b[0m\u001b[0mextend\u001b[0m\u001b[1;33m(\u001b[0m\u001b[0mself\u001b[0m\u001b[1;33m.\u001b[0m\u001b[0mcommand_line_args\u001b[0m\u001b[1;33m(\u001b[0m\u001b[1;33m)\u001b[0m\u001b[1;33m)\u001b[0m\u001b[1;33m\u001b[0m\u001b[1;33m\u001b[0m\u001b[0m\n\u001b[1;32m---> 72\u001b[1;33m             self.process = subprocess.Popen(cmd, env=self.env,\n\u001b[0m\u001b[0;32m     73\u001b[0m                                             \u001b[0mclose_fds\u001b[0m\u001b[1;33m=\u001b[0m\u001b[0mplatform\u001b[0m\u001b[1;33m.\u001b[0m\u001b[0msystem\u001b[0m\u001b[1;33m(\u001b[0m\u001b[1;33m)\u001b[0m \u001b[1;33m!=\u001b[0m \u001b[1;34m'Windows'\u001b[0m\u001b[1;33m,\u001b[0m\u001b[1;33m\u001b[0m\u001b[1;33m\u001b[0m\u001b[0m\n",
      "\u001b[1;32mc:\\python38\\lib\\subprocess.py\u001b[0m in \u001b[0;36m__init__\u001b[1;34m(self, args, bufsize, executable, stdin, stdout, stderr, preexec_fn, close_fds, shell, cwd, env, universal_newlines, startupinfo, creationflags, restore_signals, start_new_session, pass_fds, encoding, errors, text)\u001b[0m\n\u001b[0;32m    853\u001b[0m \u001b[1;33m\u001b[0m\u001b[0m\n\u001b[1;32m--> 854\u001b[1;33m             self._execute_child(args, executable, preexec_fn, close_fds,\n\u001b[0m\u001b[0;32m    855\u001b[0m                                 \u001b[0mpass_fds\u001b[0m\u001b[1;33m,\u001b[0m \u001b[0mcwd\u001b[0m\u001b[1;33m,\u001b[0m \u001b[0menv\u001b[0m\u001b[1;33m,\u001b[0m\u001b[1;33m\u001b[0m\u001b[1;33m\u001b[0m\u001b[0m\n",
      "\u001b[1;32mc:\\python38\\lib\\subprocess.py\u001b[0m in \u001b[0;36m_execute_child\u001b[1;34m(self, args, executable, preexec_fn, close_fds, pass_fds, cwd, env, startupinfo, creationflags, shell, p2cread, p2cwrite, c2pread, c2pwrite, errread, errwrite, unused_restore_signals, unused_start_new_session)\u001b[0m\n\u001b[0;32m   1306\u001b[0m             \u001b[1;32mtry\u001b[0m\u001b[1;33m:\u001b[0m\u001b[1;33m\u001b[0m\u001b[1;33m\u001b[0m\u001b[0m\n\u001b[1;32m-> 1307\u001b[1;33m                 hp, ht, pid, tid = _winapi.CreateProcess(executable, args,\n\u001b[0m\u001b[0;32m   1308\u001b[0m                                          \u001b[1;31m# no special security\u001b[0m\u001b[1;33m\u001b[0m\u001b[1;33m\u001b[0m\u001b[1;33m\u001b[0m\u001b[0m\n",
      "\u001b[1;31mFileNotFoundError\u001b[0m: [WinError 2] The system cannot find the file specified",
      "\nDuring handling of the above exception, another exception occurred:\n",
      "\u001b[1;31mWebDriverException\u001b[0m                  Traceback (most recent call last)",
      "\u001b[1;32m<ipython-input-15-221934de8531>\u001b[0m in \u001b[0;36m<module>\u001b[1;34m\u001b[0m\n\u001b[0;32m      5\u001b[0m \u001b[1;33m\u001b[0m\u001b[0m\n\u001b[0;32m      6\u001b[0m \u001b[1;31m# put the driver in the folder of this code\u001b[0m\u001b[1;33m\u001b[0m\u001b[1;33m\u001b[0m\u001b[1;33m\u001b[0m\u001b[0m\n\u001b[1;32m----> 7\u001b[1;33m \u001b[0mdriver\u001b[0m \u001b[1;33m=\u001b[0m \u001b[0mwebdriver\u001b[0m\u001b[1;33m.\u001b[0m\u001b[0mChrome\u001b[0m\u001b[1;33m(\u001b[0m\u001b[0mos\u001b[0m\u001b[1;33m.\u001b[0m\u001b[0mgetcwd\u001b[0m\u001b[1;33m(\u001b[0m\u001b[1;33m)\u001b[0m \u001b[1;33m+\u001b[0m \u001b[1;34m'.chromedriver.exe'\u001b[0m\u001b[1;33m)\u001b[0m\u001b[1;33m\u001b[0m\u001b[1;33m\u001b[0m\u001b[0m\n\u001b[0m",
      "\u001b[1;32mc:\\python38\\lib\\site-packages\\selenium\\webdriver\\chrome\\webdriver.py\u001b[0m in \u001b[0;36m__init__\u001b[1;34m(self, executable_path, port, options, service_args, desired_capabilities, service_log_path, chrome_options, keep_alive)\u001b[0m\n\u001b[0;32m     71\u001b[0m             \u001b[0mservice_args\u001b[0m\u001b[1;33m=\u001b[0m\u001b[0mservice_args\u001b[0m\u001b[1;33m,\u001b[0m\u001b[1;33m\u001b[0m\u001b[1;33m\u001b[0m\u001b[0m\n\u001b[0;32m     72\u001b[0m             log_path=service_log_path)\n\u001b[1;32m---> 73\u001b[1;33m         \u001b[0mself\u001b[0m\u001b[1;33m.\u001b[0m\u001b[0mservice\u001b[0m\u001b[1;33m.\u001b[0m\u001b[0mstart\u001b[0m\u001b[1;33m(\u001b[0m\u001b[1;33m)\u001b[0m\u001b[1;33m\u001b[0m\u001b[1;33m\u001b[0m\u001b[0m\n\u001b[0m\u001b[0;32m     74\u001b[0m \u001b[1;33m\u001b[0m\u001b[0m\n\u001b[0;32m     75\u001b[0m         \u001b[1;32mtry\u001b[0m\u001b[1;33m:\u001b[0m\u001b[1;33m\u001b[0m\u001b[1;33m\u001b[0m\u001b[0m\n",
      "\u001b[1;32mc:\\python38\\lib\\site-packages\\selenium\\webdriver\\common\\service.py\u001b[0m in \u001b[0;36mstart\u001b[1;34m(self)\u001b[0m\n\u001b[0;32m     79\u001b[0m         \u001b[1;32mexcept\u001b[0m \u001b[0mOSError\u001b[0m \u001b[1;32mas\u001b[0m \u001b[0merr\u001b[0m\u001b[1;33m:\u001b[0m\u001b[1;33m\u001b[0m\u001b[1;33m\u001b[0m\u001b[0m\n\u001b[0;32m     80\u001b[0m             \u001b[1;32mif\u001b[0m \u001b[0merr\u001b[0m\u001b[1;33m.\u001b[0m\u001b[0merrno\u001b[0m \u001b[1;33m==\u001b[0m \u001b[0merrno\u001b[0m\u001b[1;33m.\u001b[0m\u001b[0mENOENT\u001b[0m\u001b[1;33m:\u001b[0m\u001b[1;33m\u001b[0m\u001b[1;33m\u001b[0m\u001b[0m\n\u001b[1;32m---> 81\u001b[1;33m                 raise WebDriverException(\n\u001b[0m\u001b[0;32m     82\u001b[0m                     \"'%s' executable needs to be in PATH. %s\" % (\n\u001b[0;32m     83\u001b[0m                         os.path.basename(self.path), self.start_error_message)\n",
      "\u001b[1;31mWebDriverException\u001b[0m: Message: 'NLP-Project.chromedriver.exe' executable needs to be in PATH. Please see https://sites.google.com/a/chromium.org/chromedriver/home\n"
     ]
    }
   ],
   "source": [
    "import time\n",
    "import os\n",
    "from selenium import webdriver\n",
    "from bs4 import BeautifulSoup\n",
    "\n",
    "# put the driver in the folder of this code\n",
    "driver = webdriver.Chrome(os.getcwd() + '.chromedriver.exe')"
   ]
  },
  {
   "cell_type": "code",
   "execution_count": null,
   "metadata": {},
   "outputs": [],
   "source": []
  }
 ],
 "metadata": {
  "kernelspec": {
   "display_name": "Python 3",
   "language": "python",
   "name": "python3"
  },
  "language_info": {
   "codemirror_mode": {
    "name": "ipython",
    "version": 3
   },
   "file_extension": ".py",
   "mimetype": "text/x-python",
   "name": "python",
   "nbconvert_exporter": "python",
   "pygments_lexer": "ipython3",
   "version": "3.8.2"
  }
 },
 "nbformat": 4,
 "nbformat_minor": 4
}
