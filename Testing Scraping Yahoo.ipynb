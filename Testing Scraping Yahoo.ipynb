{
 "cells": [
  {
   "cell_type": "code",
   "execution_count": 1,
   "metadata": {},
   "outputs": [],
   "source": [
    "from urllib.request import urlopen\n",
    "from bs4 import BeautifulSoup\n",
    "from datetime import datetime, timedelta\n",
    "import time\n",
    "import pprint\n",
    "import pandas as pd\n",
    "import numpy as np\n",
    "from selenium import webdriver"
   ]
  },
  {
   "cell_type": "code",
   "execution_count": 2,
   "metadata": {
    "scrolled": true
   },
   "outputs": [
    {
     "name": "stdout",
     "output_type": "stream",
     "text": [
      "https://finance.yahoo.com/news/apple-iphone-se-review-122659051.html\n",
      "https://www.marketwatch.com/story/why-its-not-so-crazy-that-stocks-are-rising-even-though-26-million-people-are-out-of-work-2020-04-23?siteid=yhoof2&yptr=yahoo\n",
      "https://www.thestreet.com/technology/appleiphoneupside?puc=yahoo&cm_ven=YAHOO&yptr=yahoo\n",
      "https://finance.yahoo.com/news/rpt-showdown-looms-between-silicon-110000927.html\n",
      "https://www.barrons.com/articles/no-sports-so-bet-on-the-merger-51587771050?siteid=yhoof2&yptr=yahoo\n",
      "https://finance.yahoo.com/news/eyes-apple-q2-earnings-next-225344209.html\n",
      "https://finance.yahoo.com/news/buy-soaring-amazon-amzn-stock-223210035.html\n",
      "https://finance.yahoo.com/news/global-markets-stocks-struggle-muddled-202940221.html\n",
      "https://finance.yahoo.com/news/previewing-tech-sector-earnings-201408597.html\n",
      "https://finance.yahoo.com/news/us-stocks-tech-titans-apple-201052145.html\n",
      "https://finance.yahoo.com/news/apple-google-boost-privacy-protections-161504104.html\n",
      "https://finance.yahoo.com/news/invest-stimulus-check-183620190.html\n",
      "https://www.thestreet.com/investing/apple-google-update-coronavirus-contact-tracing-system?puc=yahoo&cm_ven=YAHOO&yptr=yahoo\n",
      "https://finance.yahoo.com/news/apple-finds-no-evidence-hackers-031310624.html\n",
      "https://finance.yahoo.com/news/trump-signs-fourth-coronavirus-relief-163522730.html\n",
      "https://finance.yahoo.com/news/apple-google-coronavirus-contact-tracing-161743605.html\n",
      "https://www.barrons.com/articles/at-t-ceo-randall-stephenson-is-stepping-down-replaced-by-coo-john-stankey-51587743811?siteid=yhoof2&yptr=yahoo\n",
      "https://finance.yahoo.com/news/france-germany-standoff-silicon-valley-155535279.html\n",
      "https://finance.yahoo.com/news/zacks-analyst-blog-highlights-microsoft-150503728.html\n",
      "https://finance.yahoo.com/news/zacks-analyst-blog-highlights-netflix-150003260.html\n",
      "https://www.investors.com/research/dow-jones-stocks/?src=A00220&yptr=yahoo\n",
      "https://finance.yahoo.com/news/facebook-fb-report-q1-earnings-145302187.html\n",
      "https://www.marketwatch.com/story/dow-flat-despite-gains-in-home-depot-apple-inc-stocks-2020-04-24?siteid=yhoof2&yptr=yahoo\n",
      "https://finance.yahoo.com/news/apple-aapl-report-q2-earnings-143102442.html\n",
      "https://www.thestreet.com/investing/apple-is-top-pick-morgan-stanley?puc=yahoo&cm_ven=YAHOO&yptr=yahoo\n",
      "\n",
      "Apple iPhone SE review: $399 gets you the power of a $1,000 phone\n",
      "Why it’s not so crazy that stocks are rising even though 26 million people are out of work\n",
      "How Apple's iPhone Shipments This Year Could Surprise Analysts\n",
      "RPT-Showdown looms between Silicon Valley, U.S. states over contact tracing apps\n",
      "Without Sports, Investors Bet on Diamond Eagles’ Merger With DraftKings\n",
      "All Eyes on Apple’s Q2 Earnings Next Week\n",
      "Buy Soaring Amazon (AMZN) Stock Ahead of Q1 2020 Earnings?\n",
      "GLOBAL MARKETS-Stocks struggle with muddled government pandemic responses\n",
      "Previewing Tech Sector Earnings\n",
      "US STOCKS-Tech titans Apple and Microsoft propel Wall St rally\n",
      "Apple, Google Boost Privacy Protections for Contact-Tracing Tool\n",
      "How to Invest Your Stimulus Check\n",
      "Apple, Google Address Concerns About Their Coronavirus Contact Tracing System\n",
      "Apple Finds No Evidence Hackers Exploited iPhone, iPad Mail Flaw\n",
      "Trump signs fourth coronavirus relief bill into law, pushes back against USPS aid\n",
      "Apple, Google update coronavirus contact tracing tech ahead of launch\n",
      "AT&T CEO Randall Stephenson Is Stepping Down, With the Company Facing an Uncertain Future\n",
      "France, Germany in standoff with Silicon Valley on contact tracing\n",
      "The Zacks Analyst Blog Highlights: Microsoft, Apple, Adobe, Nvidia and Salesforce\n",
      "The Zacks Analyst Blog Highlights: Netflix, Apple, Facebook, Amazon.com and Alphabet\n",
      "Dow Jones Stocks To Buy And Watch In April 2020; Apple Nears New Buy Point\n",
      "Facebook (FB) to Report Q1 Earnings: What's in the Cards?\n",
      "Dow flat despite gains in Home Depot, Apple Inc. stocks\n",
      "Apple (AAPL) to Report Q2 Earnings: What's in the Offing?\n",
      "Apple Is Our Top IT Hardware Pick: Morgan Stanley\n"
     ]
    }
   ],
   "source": [
    "page = urlopen('https://finance.yahoo.com/quote/AAPL/news?p=AAPL').read()\n",
    "soup = BeautifulSoup(page, features = 'html.parser')\n",
    "posts = soup.findAll('h3', {'class':'Mb(5px)'})\n",
    "\n",
    "news = list(posts)\n",
    "\n",
    "urls = []\n",
    "titles = []\n",
    "content = []\n",
    "\n",
    "for new in news:\n",
    "    urls.append(str(new.a['href']))\n",
    "    titles.append(new.text)\n",
    "    \n",
    "for url in range(len(urls)):\n",
    "    if 'https:/' not in urls[url]:\n",
    "        urls[url] = 'https://finance.yahoo.com' + urls[url]\n",
    "            \n",
    "for url in range(len(urls)):\n",
    "    if 'https://finance.yahoo.com/m/' in urls[url]:\n",
    "        new_page = urlopen(urls[url]).read()\n",
    "        new_soup = BeautifulSoup(new_page, features = 'html.parser')\n",
    "        new_post = new_soup.find('div', {'class':'read-more Mt(20px) Ta(start) Ta(c)--sm'})\n",
    "        new_url = new_post.a['href']\n",
    "        urls[url] = new_url\n",
    "        \n",
    "for (url, title) in zip(urls, titles):\n",
    "    if 'https://finance.yahoo.com/video/' in url:\n",
    "        urls.remove(url)\n",
    "        titles.remove(title)\n",
    "\n",
    "for url in urls:\n",
    "    print(url)\n",
    "    \n",
    "print('')\n",
    "\n",
    "for title in titles:\n",
    "    print(title)"
   ]
  },
  {
   "cell_type": "code",
   "execution_count": 41,
   "metadata": {
    "scrolled": true
   },
   "outputs": [
    {
     "name": "stdout",
     "output_type": "stream",
     "text": [
      "BREAKING: Stocks Close At Session Highs, S&P 500 Back Above 50-Day Line\n",
      "\n",
      "\n",
      "The Dow Jones Industrial Average continued to crumble throughout March, as the coronavirus spread across the globe, ending the first quarter of 2020 down 23.2%. But the Dow Jones industrials and the S&P 500 have rallied sharply so far in April. Top Dow Jones stocks to watch are Apple (AAPL), Microsoft (MSFT) and Walmart (WMT). Microsoft stock was still below its latest buy point Friday, while Apple is approaching a new buy point.\n",
      "There are clear winners — and losers — through the first three months of 2020. After the first quarter, the top three performing Dow Jones stocks were Microsoft, Walmart and Intel (INTC). Microsoft ended up one penny for the quarter, while Walmart and Intel dropped 4.4% and 9.6%, respectively.\n",
      "The three biggest losers through the first quarter were Boeing (BA), Dow (DOW) and Exxon Mobil (XOM) with falls of 54.2%, 46.6% and 45.6%.\n",
      "In 2020, the Dow Jones industrials slid more than 34% through the March 23 close. The tech-heavy Nasdaq composite fell 23.5%, while the S&P 500 declined 30.7% through the March 23 close. But after a significant rally in April, the major stock indexes have sharply trimmed those losses.\n",
      "Through April 17, the Dow Jones Industrial Average is down 15.1%, while the S&P 500 is down 11%. The Nasdaq is down just 3.6%.\n",
      "Get these newsletters delivered to your inbox & more info about our products & services. Privacy Policy & Terms of Use\n",
      "Founded in 1896 with 12 stocks, the Dow Jones Industrial Average is one of the oldest stock market indexes. There are 30 Dow Jones stocks designed to serve as a bellwether for the general U.S. stock market. Other major stock indexes include the technology-heavy Nasdaq composite and the S&P 500 index — an index of the 500 largest companies in the United States.\n",
      "Amid the current coronavirus stock market rally — according to the IBD Big Picture — investors should be focusing on the stocks that are setting up and breaking out. These stocks will have strong relative strength lines, and could be some of the new uptrend's stock market leaders.\n",
      "Potential Dow Jones stocks to buy and watch in April that are in or near buy zones include Apple, Microsoft and Walmart.\n",
      "Apple stock is adding a handle to a cup base after a deep fall during the coronavirus stock market crash. The cup with handle displays a 288.35 buy point, according to MarketSmith chart analysis.\n",
      "Apple shares gained 1.7% Friday morning. The stock is back above the 50-day support level and about 3% away from the new buy point.\n",
      "The stock's relative strength line is still near new highs, a bullish signal. The RS line measures a stock's price performance vs. the general market.\n",
      "Microsoft stock broke out past a 175.10 proper buy point on April 16 in a base that loosely matches a double bottom — according to MarketSmith chart analysis — after taking its key 50-day line on April 13.\n",
      "The Dow Jones stock is still below its 175.10 buy point after last week's breakout after Friday's 0.2% rise. The 5% buy zone tops out at 183.86.\n",
      "Bullishly, the RS line hit a new high last week, indicating strong relative performance. Stocks with strong RS lines during periods of stock market weakness could be potential leaders during new uptrends.\n",
      "Dow Jones retail giant Walmart briefly broke out above a 125.48 buy point in a consolidation on March 18. But the stock's breakout failed just two sessions later on March 20. The retailer held up well amid the coronavirus stock market correction, as consumers stock up on essential goods.\n",
      "Shares are just off new highs in the current stock market rally after a sharp rebound. Walmart stock rose 0.3% Friday morning.\n",
      "On March 9, Walmart was featured as the IBD Stock Of The Day.\n",
      "According to the IBD Stock Checkup, Walmart stock has an 84 out of a highest-possible 99 IBD Composite Rating. The Composite Rating is a blend of key fundamental and technical metrics to help investors easily gauge a stock's strengths.\n",
      "Tip: Before making any investment decisions, be sure to check current market conditions, and use IBD Stock Checkup to see if your stock gets passing ratings for the most important fundamental and technical criteria. To get ongoing chart analysis, and alerts to buy and sell signals, check out the unique features, stock lists and chart annotations at MarketSmith, Leaderboard and SwingTrader.\n",
      "Be sure to follow Scott Lehtonen on Twitter at @IBD_SLehtonen for more on growth stocks and the stock market.\n",
      "YOU MAY ALSO LIKE:\n",
      "Dow Jones Erases 200-Point Gain \n",
      "Top Growth Stocks To Buy And Watch\n",
      "Coronavirus Stock Market Crash Survival Guide\n",
      "IBD's ETF Stock Market Strategy\n",
      "5 Top Stocks To Watch In Current Dow Jones Rally\n",
      "See Updates To IBD Stock Lists\n",
      "\n",
      "4/25/2020\n",
      "Have we hit bottom? Now is the time to build your watchlist and look for actionable ideas. Microsoft, Domino's, ServiceNow... \n",
      "\n",
      "4/25/2020\n",
      "Have we hit bottom? Now is the time to build... \n",
      "Bill Gates issued a manifesto on coronavirus containing clues for investors. (PHOTOPQR/L'EST REPUBLICAIN/MAXPPP/Newscom)\n",
      "Get instant access to exclusive stock lists, expert market analysis and powerful tools with 5 weeks of IBD Digital for only $5!\n",
      "Get market updates, educational videos, webinars, and stock analysis.\n",
      "Learn how you can make more money with IBD's investing tools, top-performing stock lists, and educational content.\n",
      "Notice: Information contained herein is not and should not be construed as an offer, solicitation, or recommendation to buy or sell securities. The information has been obtained from sources we believe to be reliable; however no guarantee is made or implied with respect to its accuracy, timeliness, or completeness. Authors may own the stocks they discuss. The information and content are subject to change without notice.\n",
      "*Real-time prices by Nasdaq Last Sale. Realtime quote and/or trade prices are not sourced from all markets.\n",
      "Ownership data provided by Refinitiv and Estimates data provided by FactSet.\n",
      " © 2000-2020 Investor's Business Daily, Inc. All rights reserved\n"
     ]
    }
   ],
   "source": [
    "driver = webdriver.Edge(executable_path = 'C:/Users/aakul/Downloads/msedgedriver.exe')\n",
    "driver.get('https://www.investors.com/research/dow-jones-stocks/?src=A00220&yptr=yahoo')\n",
    "other_page = driver.page_source\n",
    "other_soup = BeautifulSoup(other_page, 'lxml')\n",
    "other_content = other_soup.findAll('p')\n",
    "\n",
    "for content in other_content:\n",
    "    print(content.text)"
   ]
  },
  {
   "cell_type": "code",
   "execution_count": 46,
   "metadata": {
    "scrolled": true
   },
   "outputs": [
    {
     "data": {
      "text/plain": [
       "[\"BREAKING: Stocks Close At Session Highs, S&P 500 Back Above 50-Day Line\\nThe Dow Jones Industrial Average\\xa0continued to crumble throughout March, as the coronavirus spread across the globe, ending the first quarter of 2020 down 23.2%. But the Dow Jones industrials and the S&P 500 have rallied sharply so far in April. Top Dow Jones stocks to watch are Apple (AAPL),\\xa0Microsoft (MSFT) and\\xa0Walmart (WMT). Microsoft stock was still below its latest buy point Friday, while Apple is approaching a new buy point.There are clear winners — and losers — through the first three months of 2020. After the first quarter, the top three performing Dow Jones stocks were Microsoft, Walmart and Intel (INTC). Microsoft ended up one penny for the quarter, while Walmart and Intel dropped 4.4% and 9.6%, respectively.The three biggest losers through the first quarter were\\xa0Boeing (BA), Dow (DOW) and Exxon Mobil (XOM) with falls of 54.2%, 46.6% and 45.6%.In 2020,\\xa0the Dow Jones industrials slid more than 34% through the March 23 close. The tech-heavy Nasdaq composite fell 23.5%, while the S&P 500 declined 30.7% through the March 23 close. But after a significant rally in April, the major stock indexes have sharply trimmed those losses.Through April 17, the Dow Jones Industrial Average is down 15.1%, while the S&P 500 is down 11%. The Nasdaq is down just 3.6%.Get these newsletters delivered to your inbox & more info about our products & services. Privacy Policy & Terms of UseFounded in 1896 with 12 stocks, the Dow Jones Industrial Average is one of the oldest stock market indexes. There are 30 Dow Jones stocks designed to serve as a bellwether for the general U.S. stock market. Other major stock indexes include the technology-heavy Nasdaq composite and the S&P 500 index — an index of the 500 largest companies in the United States.Amid the current coronavirus stock market rally — according to the IBD Big Picture — investors should be focusing on the stocks that are setting up and breaking out. These stocks will have strong relative strength lines, and could be some of the new uptrend's stock market leaders.Potential Dow Jones stocks to buy and watch in April that are in or near buy zones include Apple, Microsoft and Walmart.Apple stock is adding a handle to a cup base after a deep fall during the coronavirus stock market crash. The cup with handle displays a 288.35 buy point,\\xa0according to MarketSmith chart analysis.Apple shares gained 1.7% Friday morning. The stock is back above the 50-day support level and about 3% away from the new buy point.The stock's relative strength line is still near new highs, a bullish signal. The RS line measures a stock's price performance vs. the general market.Microsoft stock broke out past a 175.10 proper buy point\\xa0on April 16 in a base that loosely matches a double bottom — according to MarketSmith chart analysis — after taking its key 50-day line on April 13.The Dow Jones stock is still below its 175.10 buy point after last week's breakout after Friday's 0.2% rise. The 5% buy zone tops out at 183.86.Bullishly, the RS line hit a new high last week, indicating strong relative performance. Stocks with strong RS lines during periods of stock market weakness could be potential leaders during new uptrends.Dow Jones retail giant Walmart briefly broke out above a 125.48 buy point in a consolidation on March 18. But the stock's breakout failed just two sessions later on March 20. The retailer held up well amid the coronavirus stock market correction, as consumers stock up on essential goods.Shares are just off new highs in the current stock market rally after a sharp rebound. Walmart stock rose 0.3% Friday morning.On March 9, Walmart was featured as the IBD Stock Of The Day.According to the IBD Stock Checkup, Walmart stock\\xa0has an 84 out of a highest-possible 99\\xa0IBD Composite Rating. The Composite Rating is a blend of key fundamental and technical metrics to help investors easily gauge a stock's strengths.Tip:\\xa0Before making any investment decisions, be sure to check\\xa0current market conditions, and use\\xa0IBD Stock Checkup\\xa0to see if your stock gets passing ratings for the most important fundamental and technical criteria. To get\\xa0ongoing chart analysis, and alerts to buy and sell signals, check out the unique features, stock lists and chart annotations at\\xa0MarketSmith,\\xa0Leaderboard\\xa0and\\xa0SwingTrader.Be sure to follow Scott Lehtonen on Twitter at\\xa0@IBD_SLehtonen\\xa0for more on growth stocks and the stock market.YOU MAY ALSO LIKE:Dow Jones Erases 200-Point Gain\\xa0Top Growth Stocks To Buy And WatchCoronavirus Stock Market Crash Survival GuideIBD's ETF Stock Market Strategy5 Top Stocks To Watch In Current Dow Jones RallySee Updates To IBD Stock Lists\\n4/25/2020\\nHave we hit bottom? Now is the time to build your watchlist and look for actionable ideas. Microsoft, Domino's, ServiceNow... \\n4/25/2020\\nHave we hit bottom? Now is the time to build... Bill Gates issued a manifesto on coronavirus containing clues for investors. (PHOTOPQR/L'EST REPUBLICAIN/MAXPPP/Newscom)Get instant access to exclusive stock lists, expert market analysis and powerful tools with 5 weeks of IBD Digital for only $5!Get market updates, educational videos, webinars, and stock analysis.Learn how you can make more money with IBD's investing tools, top-performing stock lists, and educational content.Notice: Information contained herein is not and should not be construed as an offer, solicitation, or recommendation to buy or sell securities. The information has been obtained from sources we believe to be reliable; however no guarantee is made or implied with respect to its accuracy, timeliness, or completeness. Authors may own the stocks they discuss. The information and content are subject to change without notice.*Real-time prices by Nasdaq Last Sale. Realtime quote and/or trade prices are not sourced from all markets.Ownership data provided by Refinitiv and Estimates data provided by FactSet. © 2000-2020 Investor's Business Daily, Inc. All rights reserved\"]"
      ]
     },
     "execution_count": 46,
     "metadata": {},
     "output_type": "execute_result"
    }
   ],
   "source": [
    "other = []\n",
    "for url in range(len(urls)):\n",
    "    if 'https://www.investors.com' in urls[url]:\n",
    "        driver = webdriver.Edge(executable_path = 'C:/Users/aakul/Downloads/msedgedriver.exe')\n",
    "        driver.get(urls[url])\n",
    "        other_page = driver.page_source\n",
    "        other_soup = BeautifulSoup(other_page, 'lxml')\n",
    "        other_content = other_soup.findAll('p')\n",
    "        \n",
    "        content_string = ''\n",
    "        \n",
    "        for content in other_content:\n",
    "            content_string += content.text\n",
    "            \n",
    "        other.append(content_string)\n",
    "        \n",
    "        driver.quit()\n",
    "        \n",
    "other"
   ]
  },
  {
   "cell_type": "code",
   "execution_count": null,
   "metadata": {},
   "outputs": [],
   "source": []
  }
 ],
 "metadata": {
  "kernelspec": {
   "display_name": "Python 3",
   "language": "python",
   "name": "python3"
  },
  "language_info": {
   "codemirror_mode": {
    "name": "ipython",
    "version": 3
   },
   "file_extension": ".py",
   "mimetype": "text/x-python",
   "name": "python",
   "nbconvert_exporter": "python",
   "pygments_lexer": "ipython3",
   "version": "3.8.2"
  }
 },
 "nbformat": 4,
 "nbformat_minor": 4
}
